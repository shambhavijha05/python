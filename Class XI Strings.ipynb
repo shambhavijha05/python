{
 "cells": [
  {
   "cell_type": "markdown",
   "metadata": {},
   "source": [
    "# Python Strings\n",
    "A string is a sequence of characters.\n",
    "\n",
    "Computers do not deal with characters, they deal with numbers (binary). Even though you may see characters on your screen, internally it is stored and manipulated as a combination of 0s and 1s.\n",
    "\n",
    "This conversion of character to a number is called encoding, and the reverse process is decoding. ASCII and Unicode are some of the popular encodings used.\n",
    "\n",
    "In Python, a string is a sequence of Unicode characters. Unicode was introduced to include every character in all languages and bring uniformity in encoding. \n"
   ]
  },
  {
   "cell_type": "markdown",
   "metadata": {},
   "source": [
    "# How to create a string in Python?\n",
    "Strings can be created by enclosing characters inside a single quote or double-quotes. Even triple quotes can be used in Python but generally used to represent multiline strings and docstrings."
   ]
  },
  {
   "cell_type": "code",
   "execution_count": 3,
   "metadata": {},
   "outputs": [
    {
     "name": "stdout",
     "output_type": "stream",
     "text": [
      "Hello\n",
      "World!\n"
     ]
    }
   ],
   "source": [
    "str = 'Hello\\nWorld!'\n",
    "print (str) # Prints complete string"
   ]
  },
  {
   "cell_type": "code",
   "execution_count": 4,
   "metadata": {},
   "outputs": [
    {
     "name": "stdout",
     "output_type": "stream",
     "text": [
      "Puja\n",
      "Gupta\n"
     ]
    }
   ],
   "source": [
    "s=\"Puja\\nGupta\"\n",
    "print(s)"
   ]
  },
  {
   "cell_type": "code",
   "execution_count": 1,
   "metadata": {},
   "outputs": [
    {
     "name": "stdout",
     "output_type": "stream",
     "text": [
      "My name is\n",
      "kfjhjkdh\n",
      "fdfdklfh\n",
      "dfdhfjh\n",
      "puja Gupta\n"
     ]
    }
   ],
   "source": [
    "s='''My name is\n",
    "kfjhjkdh\n",
    "fdfdklfh\n",
    "dfdhfjh\n",
    "puja Gupta'''\n",
    "print(s)"
   ]
  },
  {
   "cell_type": "code",
   "execution_count": 5,
   "metadata": {},
   "outputs": [
    {
     "name": "stdout",
     "output_type": "stream",
     "text": [
      "This is rita's book\n"
     ]
    }
   ],
   "source": [
    "s=\"This is rita's book\"\n",
    "print(s)"
   ]
  },
  {
   "cell_type": "code",
   "execution_count": 7,
   "metadata": {},
   "outputs": [
    {
     "name": "stdout",
     "output_type": "stream",
     "text": [
      "This is rita's book\n"
     ]
    }
   ],
   "source": [
    "s='This is rita\\'s book'\n",
    "print(s)"
   ]
  },
  {
   "cell_type": "code",
   "execution_count": null,
   "metadata": {},
   "outputs": [],
   "source": [
    "s='''This is puja's Book'''\n",
    "print(s)"
   ]
  },
  {
   "cell_type": "code",
   "execution_count": null,
   "metadata": {},
   "outputs": [],
   "source": [
    "s='''This is \n",
    "puja's \n",
    "Book'''\n",
    "print(s)\n",
    "s"
   ]
  },
  {
   "cell_type": "markdown",
   "metadata": {},
   "source": [
    "# How to access characters in a string?\n",
    "We can access individual characters using indexing and a range of characters using slicing. Index starts from 0. Trying to access a character out of index range will raise an IndexError. The index must be an integer. We can't use floats or other types, this will result into TypeError."
   ]
  },
  {
   "cell_type": "code",
   "execution_count": 10,
   "metadata": {},
   "outputs": [
    {
     "name": "stdout",
     "output_type": "stream",
     "text": [
      "5\n",
      "e\n"
     ]
    }
   ],
   "source": [
    "s = \"Hello\" # H-0, e-1,l-2,l-3,o-4 len(s)-1\n",
    "print(len(s))\n",
    "print (s[1])"
   ]
  },
  {
   "cell_type": "code",
   "execution_count": 11,
   "metadata": {},
   "outputs": [
    {
     "ename": "TypeError",
     "evalue": "string indices must be integers",
     "output_type": "error",
     "traceback": [
      "\u001b[1;31m---------------------------------------------------------------------------\u001b[0m",
      "\u001b[1;31mTypeError\u001b[0m                                 Traceback (most recent call last)",
      "\u001b[1;32m<ipython-input-11-05e4e271c420>\u001b[0m in \u001b[0;36m<module>\u001b[1;34m\u001b[0m\n\u001b[0;32m      1\u001b[0m \u001b[0ms\u001b[0m \u001b[1;33m=\u001b[0m \u001b[1;34m\"Eagle\"\u001b[0m\u001b[1;33m\u001b[0m\u001b[1;33m\u001b[0m\u001b[0m\n\u001b[1;32m----> 2\u001b[1;33m \u001b[0mprint\u001b[0m \u001b[1;33m(\u001b[0m\u001b[0ms\u001b[0m\u001b[1;33m[\u001b[0m\u001b[1;36m1.5\u001b[0m\u001b[1;33m]\u001b[0m\u001b[1;33m)\u001b[0m\u001b[1;33m\u001b[0m\u001b[1;33m\u001b[0m\u001b[0m\n\u001b[0m",
      "\u001b[1;31mTypeError\u001b[0m: string indices must be integers"
     ]
    }
   ],
   "source": [
    "s = \"Eagle\"\n",
    "print (s[1.5])"
   ]
  },
  {
   "cell_type": "code",
   "execution_count": 12,
   "metadata": {},
   "outputs": [
    {
     "ename": "IndexError",
     "evalue": "string index out of range",
     "output_type": "error",
     "traceback": [
      "\u001b[1;31m---------------------------------------------------------------------------\u001b[0m",
      "\u001b[1;31mIndexError\u001b[0m                                Traceback (most recent call last)",
      "\u001b[1;32m<ipython-input-12-63a17121fb42>\u001b[0m in \u001b[0;36m<module>\u001b[1;34m\u001b[0m\n\u001b[0;32m      1\u001b[0m \u001b[0ms\u001b[0m \u001b[1;33m=\u001b[0m \u001b[1;34m\"Hello\"\u001b[0m\u001b[1;33m\u001b[0m\u001b[1;33m\u001b[0m\u001b[0m\n\u001b[1;32m----> 2\u001b[1;33m \u001b[0mprint\u001b[0m \u001b[1;33m(\u001b[0m\u001b[0ms\u001b[0m\u001b[1;33m[\u001b[0m\u001b[1;36m5\u001b[0m\u001b[1;33m]\u001b[0m\u001b[1;33m)\u001b[0m\u001b[1;33m\u001b[0m\u001b[1;33m\u001b[0m\u001b[0m\n\u001b[0m",
      "\u001b[1;31mIndexError\u001b[0m: string index out of range"
     ]
    }
   ],
   "source": [
    "s = \"Hello\"\n",
    "print (s[5])"
   ]
  },
  {
   "cell_type": "markdown",
   "metadata": {},
   "source": [
    "# Strings are immutable\n",
    "This means that elements of a string cannot be changed once they have been assigned. We can simply reassign different strings to the same name, which will be at different memory location."
   ]
  },
  {
   "cell_type": "code",
   "execution_count": 14,
   "metadata": {},
   "outputs": [
    {
     "name": "stdout",
     "output_type": "stream",
     "text": [
      "570664519248\n"
     ]
    },
    {
     "ename": "TypeError",
     "evalue": "'str' object does not support item assignment",
     "output_type": "error",
     "traceback": [
      "\u001b[1;31m---------------------------------------------------------------------------\u001b[0m",
      "\u001b[1;31mTypeError\u001b[0m                                 Traceback (most recent call last)",
      "\u001b[1;32m<ipython-input-14-233d2f097963>\u001b[0m in \u001b[0;36m<module>\u001b[1;34m\u001b[0m\n\u001b[0;32m      1\u001b[0m \u001b[0ma\u001b[0m\u001b[1;33m=\u001b[0m\u001b[1;34m'mount'\u001b[0m\u001b[1;33m\u001b[0m\u001b[1;33m\u001b[0m\u001b[0m\n\u001b[0;32m      2\u001b[0m \u001b[0mprint\u001b[0m\u001b[1;33m(\u001b[0m\u001b[0mid\u001b[0m\u001b[1;33m(\u001b[0m\u001b[0ma\u001b[0m\u001b[1;33m)\u001b[0m\u001b[1;33m)\u001b[0m\u001b[1;33m\u001b[0m\u001b[1;33m\u001b[0m\u001b[0m\n\u001b[1;32m----> 3\u001b[1;33m \u001b[0ma\u001b[0m\u001b[1;33m[\u001b[0m\u001b[1;36m0\u001b[0m\u001b[1;33m]\u001b[0m\u001b[1;33m=\u001b[0m\u001b[1;34m'p'\u001b[0m\u001b[1;33m\u001b[0m\u001b[1;33m\u001b[0m\u001b[0m\n\u001b[0m\u001b[0;32m      4\u001b[0m \u001b[0ma\u001b[0m\u001b[1;33m=\u001b[0m\u001b[1;34m\"hello\"\u001b[0m\u001b[1;33m\u001b[0m\u001b[1;33m\u001b[0m\u001b[0m\n\u001b[0;32m      5\u001b[0m \u001b[0mprint\u001b[0m\u001b[1;33m(\u001b[0m\u001b[0mid\u001b[0m\u001b[1;33m(\u001b[0m\u001b[0ma\u001b[0m\u001b[1;33m)\u001b[0m\u001b[1;33m)\u001b[0m\u001b[1;33m\u001b[0m\u001b[1;33m\u001b[0m\u001b[0m\n",
      "\u001b[1;31mTypeError\u001b[0m: 'str' object does not support item assignment"
     ]
    }
   ],
   "source": [
    "a='mount'\n",
    "print(id(a))\n",
    "a=\"hello\"\n",
    "print(id(a))"
   ]
  },
  {
   "cell_type": "code",
   "execution_count": null,
   "metadata": {},
   "outputs": [],
   "source": [
    "a=\"carmel\"\n",
    "print(a)"
   ]
  },
  {
   "cell_type": "markdown",
   "metadata": {},
   "source": [
    "# Deleting a string\n",
    "We cannot delete or remove characters from a string. But deleting the string entirely is possible using the del keyword."
   ]
  },
  {
   "cell_type": "code",
   "execution_count": null,
   "metadata": {},
   "outputs": [],
   "source": [
    "s=\"puja\"\n",
    "del s[0]\n",
    "print(s)"
   ]
  },
  {
   "cell_type": "code",
   "execution_count": 15,
   "metadata": {},
   "outputs": [
    {
     "ename": "NameError",
     "evalue": "name 's' is not defined",
     "output_type": "error",
     "traceback": [
      "\u001b[1;31m---------------------------------------------------------------------------\u001b[0m",
      "\u001b[1;31mNameError\u001b[0m                                 Traceback (most recent call last)",
      "\u001b[1;32m<ipython-input-15-f6fd4ca31fc7>\u001b[0m in \u001b[0;36m<module>\u001b[1;34m\u001b[0m\n\u001b[0;32m      1\u001b[0m \u001b[0ms\u001b[0m\u001b[1;33m=\u001b[0m\u001b[1;34m\"Mount\"\u001b[0m\u001b[1;33m\u001b[0m\u001b[1;33m\u001b[0m\u001b[0m\n\u001b[0;32m      2\u001b[0m \u001b[1;32mdel\u001b[0m \u001b[0ms\u001b[0m\u001b[1;33m\u001b[0m\u001b[1;33m\u001b[0m\u001b[0m\n\u001b[1;32m----> 3\u001b[1;33m \u001b[0mprint\u001b[0m\u001b[1;33m(\u001b[0m\u001b[0ms\u001b[0m\u001b[1;33m)\u001b[0m\u001b[1;33m\u001b[0m\u001b[1;33m\u001b[0m\u001b[0m\n\u001b[0m",
      "\u001b[1;31mNameError\u001b[0m: name 's' is not defined"
     ]
    }
   ],
   "source": [
    "s=\"Mount\"\n",
    "del s\n",
    "print(s)"
   ]
  },
  {
   "cell_type": "code",
   "execution_count": null,
   "metadata": {},
   "outputs": [],
   "source": [
    "# STRING SLICING:\n",
    "We can access a range of items in a string by using the slicing operator :(colon).\n",
    "Positive Subscript- access string from beginning"
   ]
  },
  {
   "attachments": {
    "str_slicing.png": {
     "image/png": "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"
    }
   },
   "cell_type": "markdown",
   "metadata": {},
   "source": [
    "![str_slicing.png](attachment:str_slicing.png)"
   ]
  },
  {
   "cell_type": "raw",
   "metadata": {},
   "source": [
    "•\ts[1:4] is 'ell' -- chars starting at index 1 and extending up to but not including index 4\n",
    "•\ts[1:] is 'ello' -- omitting either index defaults to the start or end of the string\n",
    "•\ts[:] is 'Hello' -- omitting both always gives us a copy of the whole \n",
    "•\ts[1:100] is 'ello' -- an index that is too big is truncated down to the string length\n",
    "The standard zero-based index numbers give easy access to chars near the start of the string."
   ]
  },
  {
   "cell_type": "code",
   "execution_count": 24,
   "metadata": {},
   "outputs": [
    {
     "name": "stdout",
     "output_type": "stream",
     "text": [
      "l\n"
     ]
    }
   ],
   "source": [
    "s='Hello'\n",
    "\n",
    "print(s[3:4])\n"
   ]
  },
  {
   "cell_type": "markdown",
   "metadata": {},
   "source": [
    "# Escape Sequence: \n",
    "\n",
    "The programmers refer to the “backslash \\” character as an escape character. In other words, it has a special meaning when we use it inside the strings. As the name suggests, the escape character escapes the characters in a string for a brief moment to introduce unique inclusion. That is to say; backlash signifies that the next character after it has a different meaning. It could be printing double quotes or indicating a new line. Let’s see what escape sequences are and how to use them in Escape Sequences in Python \n",
    "\n",
    "‘\\’ is used as an escape sequence. An escape sequence is nothing but a special character that has a specific function. ‘\\n’ – Gives new line ‘\\t’- Gives tab space "
   ]
  },
  {
   "cell_type": "code",
   "execution_count": 2,
   "metadata": {},
   "outputs": [
    {
     "name": "stdout",
     "output_type": "stream",
     "text": [
      "puja\n",
      "  Gupta\n"
     ]
    }
   ],
   "source": [
    "s='puja\\n  Gupta'\n",
    "print(s)"
   ]
  },
  {
   "cell_type": "code",
   "execution_count": 7,
   "metadata": {},
   "outputs": [
    {
     "name": "stdout",
     "output_type": "stream",
     "text": [
      "puja\tGup\n",
      "ta\n"
     ]
    }
   ],
   "source": [
    "s='puja\\tGup\\nta'\n",
    "print(s)"
   ]
  },
  {
   "cell_type": "markdown",
   "metadata": {},
   "source": [
    "# String Special Operators"
   ]
  },
  {
   "attachments": {
    "string_op.png": {
     "image/png": "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"
    }
   },
   "cell_type": "markdown",
   "metadata": {},
   "source": [
    "![string_op.png](attachment:string_op.png)"
   ]
  },
  {
   "cell_type": "markdown",
   "metadata": {},
   "source": [
    "# Concatenation of Two or More Strings(+)\n",
    "Joining of two or more strings into a single one is called concatenation.\n",
    "\n",
    "The + operator does this in Python. Simply writing two string literals together also concatenates them."
   ]
  },
  {
   "cell_type": "code",
   "execution_count": 10,
   "metadata": {},
   "outputs": [
    {
     "name": "stdout",
     "output_type": "stream",
     "text": [
      "Hello  python\n"
     ]
    }
   ],
   "source": [
    "a=\"Hello  \"\n",
    "b='python'\n",
    "print(a+b)"
   ]
  },
  {
   "cell_type": "markdown",
   "metadata": {},
   "source": [
    "Writing two string literals together also concatenates them like + operator."
   ]
  },
  {
   "cell_type": "code",
   "execution_count": 11,
   "metadata": {},
   "outputs": [
    {
     "name": "stdout",
     "output_type": "stream",
     "text": [
      "Hello World!\n"
     ]
    }
   ],
   "source": [
    "s='Hello ''World!'\n",
    "print(s)"
   ]
  },
  {
   "cell_type": "markdown",
   "metadata": {},
   "source": [
    "if we want to concatenate strings in different lines, we can use parentheses."
   ]
  },
  {
   "cell_type": "code",
   "execution_count": 13,
   "metadata": {},
   "outputs": [
    {
     "name": "stdout",
     "output_type": "stream",
     "text": [
      "Hello World <class 'str'>\n"
     ]
    }
   ],
   "source": [
    "s1 = ('Hello '\n",
    "  'World')\n",
    "print(s1,type(s1))\n"
   ]
  },
  {
   "cell_type": "markdown",
   "metadata": {},
   "source": [
    "# Repetition of string\n",
    "The * operator can be used to repeat the string for a given number of times."
   ]
  },
  {
   "cell_type": "code",
   "execution_count": 23,
   "metadata": {},
   "outputs": [
    {
     "name": "stdout",
     "output_type": "stream",
     "text": [
      "Hello\n",
      "Hello\n",
      "Hello\n",
      "\n",
      "pythonpythonpython\n"
     ]
    }
   ],
   "source": [
    "a=\"Hello\\n\"\n",
    "b='python'\n",
    "print(3*a)\n",
    "print(3*b)"
   ]
  },
  {
   "cell_type": "code",
   "execution_count": null,
   "metadata": {},
   "outputs": [],
   "source": [
    "s=\"Hello\"\n",
    "print(s[0])"
   ]
  },
  {
   "cell_type": "code",
   "execution_count": null,
   "metadata": {},
   "outputs": [],
   "source": [
    "s=\"Hello\"\n",
    "print(s[1:4])"
   ]
  },
  {
   "cell_type": "markdown",
   "metadata": {},
   "source": [
    "# String Membership Test\n",
    "We can test if a substring exists within a string or not, using the keyword in."
   ]
  },
  {
   "cell_type": "code",
   "execution_count": 28,
   "metadata": {},
   "outputs": [
    {
     "name": "stdout",
     "output_type": "stream",
     "text": [
      "False\n"
     ]
    }
   ],
   "source": [
    "s=\"Helloelsghahel\"\n",
    "print('el' not in s)"
   ]
  },
  {
   "cell_type": "code",
   "execution_count": 29,
   "metadata": {},
   "outputs": [
    {
     "name": "stdout",
     "output_type": "stream",
     "text": [
      "True\n"
     ]
    }
   ],
   "source": [
    "s=\"Hello\"\n",
    "print('Hello' in s)"
   ]
  },
  {
   "cell_type": "code",
   "execution_count": 36,
   "metadata": {},
   "outputs": [
    {
     "name": "stdout",
     "output_type": "stream",
     "text": [
      "False\n"
     ]
    }
   ],
   "source": [
    "s=\"Hel lo\"\n",
    "print('' not in s)"
   ]
  },
  {
   "cell_type": "markdown",
   "metadata": {},
   "source": [
    "# Comparing Strings Using Relational Operators\n",
    "Comparing strings is a common job in programming. We can compare two strings with a == operator. We can check the opposite with the non-equality != operator. The operators return a boolean True or False."
   ]
  },
  {
   "cell_type": "code",
   "execution_count": 37,
   "metadata": {},
   "outputs": [
    {
     "name": "stdout",
     "output_type": "stream",
     "text": [
      "True\n"
     ]
    }
   ],
   "source": [
    "print (\"12\" == \"12\" )    #These two strings are equal, so the line returns True."
   ]
  },
  {
   "cell_type": "code",
   "execution_count": 41,
   "metadata": {},
   "outputs": [
    {
     "name": "stdout",
     "output_type": "stream",
     "text": [
      "True\n"
     ]
    }
   ],
   "source": [
    "print (\"puja\" == \"puja\")      #The first two characters of both strings are equal. Next the following          \n",
    "                          #characters are compared. They are different so the line returns False."
   ]
  },
  {
   "cell_type": "code",
   "execution_count": 42,
   "metadata": {},
   "outputs": [
    {
     "name": "stdout",
     "output_type": "stream",
     "text": [
      "True\n"
     ]
    }
   ],
   "source": [
    "print (\"abc\" != \"bce\")   #Since the two strings are different, the line returns True."
   ]
  },
  {
   "cell_type": "markdown",
   "metadata": {},
   "source": [
    "# Iterating Through a string\n",
    "We can iterate through a string using a for loop."
   ]
  },
  {
   "cell_type": "code",
   "execution_count": 2,
   "metadata": {},
   "outputs": [
    {
     "name": "stdout",
     "output_type": "stream",
     "text": [
      "enter stringmount\n",
      "0 m\n",
      "1 o\n",
      "2 u\n",
      "3 n\n",
      "4 t\n"
     ]
    }
   ],
   "source": [
    "s=input(\"enter string\")\n",
    "for i in range(len(s)):\n",
    "    print(i,s[i])"
   ]
  },
  {
   "cell_type": "code",
   "execution_count": 44,
   "metadata": {},
   "outputs": [
    {
     "name": "stdout",
     "output_type": "stream",
     "text": [
      "Hello"
     ]
    }
   ],
   "source": [
    "s=\"Hello\"\n",
    "for i in s:\n",
    "    print(i,end='')"
   ]
  },
  {
   "cell_type": "code",
   "execution_count": null,
   "metadata": {},
   "outputs": [],
   "source": [
    "for i in \"Python Program\":\n",
    "    print(i,end='')"
   ]
  },
  {
   "cell_type": "code",
   "execution_count": 15,
   "metadata": {},
   "outputs": [
    {
     "name": "stdout",
     "output_type": "stream",
     "text": [
      "2 1 letters found\n"
     ]
    }
   ],
   "source": [
    "#Program to count the number times letter 'l' is appearing\n",
    "c1,c2= 0,0\n",
    "s=\"hellLo\"\n",
    "for i in s:\n",
    "    if i =='l'  :\n",
    "        c1 += 1\n",
    "    elif i=='L':\n",
    "        c2+=1\n",
    "print(c1,c2,'letters found')"
   ]
  },
  {
   "cell_type": "code",
   "execution_count": 5,
   "metadata": {},
   "outputs": [
    {
     "name": "stdout",
     "output_type": "stream",
     "text": [
      "3 2 Vowels count\n"
     ]
    }
   ],
   "source": [
    "#Program to count the number of vowels appearing in string\n",
    "c1=c2=0\n",
    "for i in 'HelloOO World':\n",
    "    if i in 'aeiou':\n",
    "        c1 += 1\n",
    "    elif i in 'AEIOU':\n",
    "        c2+=1\n",
    "print(c1,c2,'Vowels count')"
   ]
  },
  {
   "cell_type": "markdown",
   "metadata": {},
   "source": [
    "# Built-in function len()\n",
    "It returns the length (number of characters) of the string"
   ]
  },
  {
   "cell_type": "code",
   "execution_count": 7,
   "metadata": {},
   "outputs": [
    {
     "name": "stdout",
     "output_type": "stream",
     "text": [
      "len(str) =  8\n"
     ]
    }
   ],
   "source": [
    "str = 'cold fan'\n",
    "print('len(str) = ', len(str))"
   ]
  },
  {
   "cell_type": "markdown",
   "metadata": {},
   "source": [
    "# Escape Sequence\n",
    "If we want to print a text like He said, \"What's there?\", we can neither use single quotes nor double quotes. This will result in a SyntaxError as the text itself contains both single and double quotes."
   ]
  },
  {
   "cell_type": "markdown",
   "metadata": {},
   "source": [
    "One way to get around this problem is to use triple quotes. Alternatively, we can use escape sequences.\n",
    "\n",
    "An escape sequence starts with a backslash and is interpreted differently. If we use a single quote to represent a string, all the single quotes inside the string must be escaped. Similar is the case with double quotes."
   ]
  },
  {
   "cell_type": "code",
   "execution_count": null,
   "metadata": {},
   "outputs": [],
   "source": [
    "s='''He said, \"What's there?\"'''\n",
    "print(s)"
   ]
  },
  {
   "cell_type": "code",
   "execution_count": null,
   "metadata": {},
   "outputs": [],
   "source": [
    "print('He said, \"What\\'s there?\"')"
   ]
  },
  {
   "cell_type": "code",
   "execution_count": null,
   "metadata": {},
   "outputs": [],
   "source": [
    "print(\"He said, \\\"What's there?\\\"\")"
   ]
  },
  {
   "attachments": {
    "escape_seq.png": {
     "image/png": "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"
    }
   },
   "cell_type": "markdown",
   "metadata": {},
   "source": [
    "![escape_seq.png](attachment:escape_seq.png)"
   ]
  },
  {
   "cell_type": "markdown",
   "metadata": {},
   "source": [
    "Raw String to ignore escape sequence\n",
    "Sometimes we may wish to ignore the escape sequences inside a string. To do this we can place r or R in front of the string."
   ]
  },
  {
   "cell_type": "code",
   "execution_count": null,
   "metadata": {},
   "outputs": [],
   "source": [
    "s=r'c:\\puja\\abc.txt'\n",
    "print(s)"
   ]
  },
  {
   "cell_type": "code",
   "execution_count": null,
   "metadata": {},
   "outputs": [],
   "source": [
    "s=r'Puja\\n Gupta'\n",
    "print(s)"
   ]
  },
  {
   "cell_type": "code",
   "execution_count": null,
   "metadata": {},
   "outputs": [],
   "source": [
    "s=R\"This is Puja's Book\"\n",
    "print(s)"
   ]
  },
  {
   "cell_type": "markdown",
   "metadata": {},
   "source": [
    "# Iterating Through a string\n",
    "We can iterate through a string using a while loop."
   ]
  },
  {
   "cell_type": "code",
   "execution_count": 20,
   "metadata": {},
   "outputs": [
    {
     "name": "stdout",
     "output_type": "stream",
     "text": [
      "7\n"
     ]
    }
   ],
   "source": [
    "s=\"hello ,gh\"\n",
    "i=0\n",
    "c1=0\n",
    "while i<len(s):\n",
    "    if s[i].isalpha():\n",
    "        c1=c1+1\n",
    "    i+=1\n",
    "print(c1)"
   ]
  },
  {
   "cell_type": "code",
   "execution_count": null,
   "metadata": {},
   "outputs": [],
   "source": [
    "#Program to count the number times letter 'l' is appearing\n",
    "count = i=0\n",
    "s='Hello World'\n",
    "while i<len(s):\n",
    "    if  s[i]== 'l':\n",
    "        count += 1\n",
    "    i+=1\n",
    "print(count,'letters found')"
   ]
  },
  {
   "cell_type": "code",
   "execution_count": null,
   "metadata": {},
   "outputs": [],
   "source": [
    "#Program to count the number of vowels appearing in string\n",
    "count,i = 0,0\n",
    "s='Python Programming'\n",
    "while i<len(s) :\n",
    "    if s[i] in 'aeiouAEIOU':\n",
    "        count += 1\n",
    "    i+=1\n",
    "print(count,'Vowels count')"
   ]
  },
  {
   "cell_type": "markdown",
   "metadata": {},
   "source": [
    "# Negative Index in Strings\n",
    "Python allows negative indexing for its sequences.\n",
    "\n",
    "The index of -1 refers to the last item, -2 to the second last item and so on. We can access a range of items in a string by using the slicing operator :(colon)."
   ]
  },
  {
   "attachments": {
    "string_slice.png": {
     "image/png": "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"
    }
   },
   "cell_type": "markdown",
   "metadata": {},
   "source": [
    "![string_slice.png](attachment:string_slice.png)"
   ]
  },
  {
   "cell_type": "code",
   "execution_count": null,
   "metadata": {},
   "outputs": [],
   "source": [
    "s=\"Hello\"\n",
    "print(s[-1])\n",
    "print(s[-5])"
   ]
  },
  {
   "cell_type": "code",
   "execution_count": null,
   "metadata": {},
   "outputs": [],
   "source": [
    "s=\"Hello\"\n",
    "print(s[-1: -3: -1])\n",
    "print(s[-1: -6: -1])\n",
    "print(s[::-1])"
   ]
  },
  {
   "cell_type": "markdown",
   "metadata": {},
   "source": [
    "Cross indexing can also be done"
   ]
  },
  {
   "attachments": {
    "string_slice.png": {
     "image/png": "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"
    }
   },
   "cell_type": "markdown",
   "metadata": {},
   "source": [
    "![string_slice.png](attachment:string_slice.png)"
   ]
  },
  {
   "cell_type": "code",
   "execution_count": null,
   "metadata": {},
   "outputs": [],
   "source": [
    "s=\"Hello\"\n",
    "print(s[0:-3])\n",
    "print(s[-5:3])"
   ]
  },
  {
   "cell_type": "code",
   "execution_count": 3,
   "metadata": {},
   "outputs": [
    {
     "name": "stdout",
     "output_type": "stream",
     "text": [
      "oll\n",
      "ol\n"
     ]
    }
   ],
   "source": [
    "s=\"Hello\"\n",
    "print(s[-1:1:-1])\n",
    "print(s[4:-3:-1])"
   ]
  },
  {
   "cell_type": "code",
   "execution_count": 5,
   "metadata": {},
   "outputs": [
    {
     "data": {
      "text/plain": [
       "'oll'"
      ]
     },
     "execution_count": 5,
     "metadata": {},
     "output_type": "execute_result"
    }
   ],
   "source": [
    "s=\"Hello\"\n",
    "s[-1:1:-1]"
   ]
  },
  {
   "cell_type": "code",
   "execution_count": 9,
   "metadata": {},
   "outputs": [
    {
     "data": {
      "text/plain": [
       "'olleH'"
      ]
     },
     "execution_count": 9,
     "metadata": {},
     "output_type": "execute_result"
    }
   ],
   "source": [
    "s=\"Hello\"\n",
    "s[4::-1]"
   ]
  },
  {
   "cell_type": "code",
   "execution_count": 8,
   "metadata": {},
   "outputs": [
    {
     "data": {
      "text/plain": [
       "'ol'"
      ]
     },
     "execution_count": 8,
     "metadata": {},
     "output_type": "execute_result"
    }
   ],
   "source": [
    "s=\"Hello\"\n",
    "s[:-3:-1]"
   ]
  },
  {
   "cell_type": "code",
   "execution_count": 13,
   "metadata": {},
   "outputs": [
    {
     "data": {
      "text/plain": [
       "'olleH'"
      ]
     },
     "execution_count": 13,
     "metadata": {},
     "output_type": "execute_result"
    }
   ],
   "source": [
    "s=\"Hello\"\n",
    "s[-1::-1]"
   ]
  },
  {
   "cell_type": "code",
   "execution_count": 14,
   "metadata": {},
   "outputs": [
    {
     "data": {
      "text/plain": [
       "'eH'"
      ]
     },
     "execution_count": 14,
     "metadata": {},
     "output_type": "execute_result"
    }
   ],
   "source": [
    "s=\"Hello\"\n",
    "s[1::-1]"
   ]
  },
  {
   "cell_type": "code",
   "execution_count": 15,
   "metadata": {},
   "outputs": [
    {
     "data": {
      "text/plain": [
       "'olle'"
      ]
     },
     "execution_count": 15,
     "metadata": {},
     "output_type": "execute_result"
    }
   ],
   "source": [
    "s=\"Hello\"\n",
    "s[4:0:-1]"
   ]
  },
  {
   "cell_type": "code",
   "execution_count": 16,
   "metadata": {},
   "outputs": [
    {
     "data": {
      "text/plain": [
       "''"
      ]
     },
     "execution_count": 16,
     "metadata": {},
     "output_type": "execute_result"
    }
   ],
   "source": [
    "s=\"Hello\"\n",
    "s[4:-1:-1]"
   ]
  },
  {
   "cell_type": "markdown",
   "metadata": {},
   "source": [
    "# Unicode Characters"
   ]
  },
  {
   "cell_type": "markdown",
   "metadata": {},
   "source": [
    "A worldwide standard where each character uses a unique number between U+0000 and U+10FFFF, Unicode may be 8-bit, 16-bit, or 32-bit. Numbers, mathematical notation, popular symbols and characters from all languages are assigned a code point, for example, U+0041 is an English letter \"A.\" Below is an example of how \"Computer Hope\" would be written in English Unicode.\n",
    "\n",
    "In Python source code, specific code points can be written using the \\u escape sequence, which is followed by four hex digits giving the code point."
   ]
  },
  {
   "cell_type": "code",
   "execution_count": 2,
   "metadata": {},
   "outputs": [
    {
     "name": "stdout",
     "output_type": "stream",
     "text": [
      "\n"
     ]
    }
   ],
   "source": [
    "s='\\u0094'\n",
    "print(s)"
   ]
  },
  {
   "cell_type": "code",
   "execution_count": 3,
   "metadata": {},
   "outputs": [
    {
     "name": "stdout",
     "output_type": "stream",
     "text": [
      "ी\n"
     ]
    }
   ],
   "source": [
    "s='\\u0940'\n",
    "print(s)"
   ]
  },
  {
   "cell_type": "code",
   "execution_count": 4,
   "metadata": {},
   "outputs": [
    {
     "name": "stdout",
     "output_type": "stream",
     "text": [
      "ठ\n"
     ]
    }
   ],
   "source": [
    "s='\\u0920'\n",
    "print(s)"
   ]
  },
  {
   "cell_type": "code",
   "execution_count": 7,
   "metadata": {},
   "outputs": [
    {
     "name": "stdout",
     "output_type": "stream",
     "text": [
      "A\n"
     ]
    }
   ],
   "source": [
    "s='\\u0041'\n",
    "print(s)"
   ]
  }
 ],
 "metadata": {
  "kernelspec": {
   "display_name": "Python 3",
   "language": "python",
   "name": "python3"
  },
  "language_info": {
   "codemirror_mode": {
    "name": "ipython",
    "version": 3
   },
   "file_extension": ".py",
   "mimetype": "text/x-python",
   "name": "python",
   "nbconvert_exporter": "python",
   "pygments_lexer": "ipython3",
   "version": "3.7.3"
  }
 },
 "nbformat": 4,
 "nbformat_minor": 2
}
trial
